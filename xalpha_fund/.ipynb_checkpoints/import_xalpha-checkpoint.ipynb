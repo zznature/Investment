{
 "cells": [
  {
   "cell_type": "markdown",
   "id": "86ab7d37",
   "metadata": {},
   "source": [
    "xalpha 可以用来对场外基金和指数进行方便的追踪和研究， 同时可以实现投资情况的汇总管理与数据分析，并且支持一些简单的基金购买策略回测。"
   ]
  },
  {
   "cell_type": "code",
   "execution_count": 1,
   "id": "21eac093",
   "metadata": {},
   "outputs": [],
   "source": [
    "import xalpha as xa"
   ]
  },
  {
   "cell_type": "code",
   "execution_count": 2,
   "id": "9fd5ad30",
   "metadata": {},
   "outputs": [],
   "source": [
    "yfd_zhongzhen500_c = xa.fundinfo('007029') #易方达中证500ETF联接C"
   ]
  },
  {
   "cell_type": "code",
   "execution_count": 3,
   "id": "5c8276d7",
   "metadata": {},
   "outputs": [
    {
     "name": "stdout",
     "output_type": "stream",
     "text": [
      "fund name: 易方达中证500ETF联接C\n",
      "fund code: 007029\n",
      "fund purchase fee: 0.0%\n",
      "fund redemption fee info: ['小于等于6天', '1.50%', '大于等于7天', '0.00%']\n"
     ]
    }
   ],
   "source": [
    "yfd_zhongzhen500_c.info()"
   ]
  },
  {
   "cell_type": "code",
   "execution_count": 12,
   "id": "82addca9",
   "metadata": {},
   "outputs": [
    {
     "ename": "AttributeError",
     "evalue": "'fundinfo' object has no attribute 'indexinfo'",
     "output_type": "error",
     "traceback": [
      "\u001b[0;31m---------------------------------------------------------------------------\u001b[0m",
      "\u001b[0;31mAttributeError\u001b[0m                            Traceback (most recent call last)",
      "\u001b[0;32m<ipython-input-12-fce1d8c85232>\u001b[0m in \u001b[0;36m<module>\u001b[0;34m\u001b[0m\n\u001b[0;32m----> 1\u001b[0;31m \u001b[0myfd_zhongzhen500_c\u001b[0m\u001b[0;34m.\u001b[0m\u001b[0mindexinfo\u001b[0m \u001b[0;34m(\u001b[0m\u001b[0;34m)\u001b[0m\u001b[0;34m\u001b[0m\u001b[0;34m\u001b[0m\u001b[0m\n\u001b[0m",
      "\u001b[0;31mAttributeError\u001b[0m: 'fundinfo' object has no attribute 'indexinfo'"
     ]
    }
   ],
   "source": [
    "yfd_zhongzhen500_c.indexinfo ()"
   ]
  },
  {
   "cell_type": "code",
   "execution_count": 10,
   "id": "d304259a",
   "metadata": {},
   "outputs": [],
   "source": [
    "yfd_zhongzhen500_c.get_stock_holdings(2020, 4)"
   ]
  },
  {
   "cell_type": "code",
   "execution_count": null,
   "id": "9ca59ad2",
   "metadata": {},
   "outputs": [],
   "source": []
  }
 ],
 "metadata": {
  "kernelspec": {
   "display_name": "Python 3",
   "language": "python",
   "name": "python3"
  },
  "language_info": {
   "codemirror_mode": {
    "name": "ipython",
    "version": 3
   },
   "file_extension": ".py",
   "mimetype": "text/x-python",
   "name": "python",
   "nbconvert_exporter": "python",
   "pygments_lexer": "ipython3",
   "version": "3.8.8"
  }
 },
 "nbformat": 4,
 "nbformat_minor": 5
}
